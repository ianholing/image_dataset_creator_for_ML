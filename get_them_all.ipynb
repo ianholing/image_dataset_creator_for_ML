{
 "cells": [
  {
   "cell_type": "code",
   "execution_count": 3,
   "metadata": {},
   "outputs": [
    {
     "name": "stdout",
     "output_type": "stream",
     "text": [
      "Pokemons in API:  949\n",
      "Looking for:  pokemon+bulbasaur+image\n",
      "10 images saved to:  pokemon_images\n",
      "bulbasaur downloaded\n",
      "All pokemon images downloaded\n",
      "Normalizing..\n",
      "Done!\n"
     ]
    }
   ],
   "source": [
    "from GoogleImageSpider import *\n",
    "from ImageNormalizer import *\n",
    "import certifi, urllib3\n",
    "import json\n",
    "import os\n",
    "\n",
    "path = \"pokemon_images\"\n",
    "images_to_download = 100\n",
    "\n",
    "if not os.path.exists(path):\n",
    "    os.makedirs(path)\n",
    "\n",
    "# FIRST USE A POKEMON API TO GET EACH POKEMON NAME:\n",
    "http = urllib3.PoolManager(cert_reqs='CERT_REQUIRED', ca_certs=certifi.where())\n",
    "json_string = http.request('GET', 'https://pokeapi.co/api/v2/pokemon/?limit=1000')\n",
    "json_string = json_string.data.decode('utf-8')\n",
    "pokemons = json.loads(json_string)\n",
    "print(\"Pokemons in API: \", len(pokemons['results']))\n",
    "\n",
    "# SECOND STEP DOWNLOAD IMAGES FROM EACH POKEMON NAME:\n",
    "gis = GoogleImageSpider()\n",
    "for poketemp in pokemons['results']:\n",
    "    gis.get_images(\"pokemon \" + poketemp['name'] + \" image\", images_to_download)\n",
    "    gis.save_images(poketemp['name'], path)\n",
    "    gis.clear()\n",
    "    print (poketemp['name'], \"downloaded\")\n",
    "\n",
    "print (\"All pokemon images downloaded\")\n",
    "\n",
    "# THIRD STEP NORMALIZE IMAGES\n",
    "im = ImageNormalizer(path)\n",
    "im.normalize((256, 256), \"destin_images\")\n",
    "print (\"Done!\")"
   ]
  }
 ],
 "metadata": {
  "kernelspec": {
   "display_name": "Python 3",
   "language": "python",
   "name": "python3"
  },
  "language_info": {
   "codemirror_mode": {
    "name": "ipython",
    "version": 3
   },
   "file_extension": ".py",
   "mimetype": "text/x-python",
   "name": "python",
   "nbconvert_exporter": "python",
   "pygments_lexer": "ipython3",
   "version": "3.5.2"
  }
 },
 "nbformat": 4,
 "nbformat_minor": 2
}
